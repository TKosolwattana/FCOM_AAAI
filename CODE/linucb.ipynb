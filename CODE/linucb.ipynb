{
 "cells": [
  {
   "cell_type": "code",
   "execution_count": 1,
   "metadata": {
    "id": "SOcz7W1h-Wyz"
   },
   "outputs": [],
   "source": [
    "import numpy as np\n",
    "import pandas as pd\n",
    "import matplotlib.pyplot as plt\n",
    "import seaborn as sns\n",
    "import os"
   ]
  },
  {
   "cell_type": "code",
   "execution_count": 2,
   "metadata": {
    "id": "G7aA1kJx-rXQ"
   },
   "outputs": [],
   "source": [
    "N_TRIAL = 30000\n",
    "N_ARMS = 100\n",
    "N_FEATURE = 10\n",
    "M = 29\n",
    "np.random.seed(123)"
   ]
  },
  {
   "cell_type": "code",
   "execution_count": 6,
   "metadata": {},
   "outputs": [],
   "source": [
    "Y_1 = np.genfromtxt(r'\\C1\\DATA\\TEST\\re2N100S4_Y_x10.csv',delimiter=',')\n",
    "Beta = np.genfromtxt(r'\\C1\\DATA\\TEST\\re2N100S4_Beta_x10.csv',delimiter=',')\n",
    "\n",
    "X_1 = {}\n",
    "for i in range(N_ARMS):\n",
    "    name = '/DATA/TEST/'+ 're2N100S4_'+'X10_' + str(i+1) + '.csv'\n",
    "    readX = np.genfromtxt(name,delimiter=',')\n",
    "    X_1[i] = readX.T"
   ]
  },
  {
   "cell_type": "code",
   "execution_count": 11,
   "metadata": {
    "id": "rn6ulW9aoezv"
   },
   "outputs": [],
   "source": [
    "oracle_lst = []\n",
    "true_choice = []\n",
    "# noise = np.random.normal(0, 0.1, size=(100, 30000))\n",
    "noise = 0\n",
    "new_y =  -1 * Y_1 + 30 + noise#-1 * Y_1 + 30\n",
    "for t in np.arange(N_TRIAL):\n",
    "  # Find indices of M highest arms\n",
    "  all_reward_t = [new_y.T[t, arm] for arm in np.arange(N_ARMS)]\n",
    "  chosen_arms = np.array(all_reward_t).argsort()[-M:][::-1]\n",
    "  # Sum of M highest rewards\n",
    "  oracle_payoff_t = np.sum([new_y.T[t, choice] for choice in chosen_arms])\n",
    "  # Append to the list\n",
    "  oracle_lst.append(oracle_payoff_t)\n",
    "  true_choice.append(chosen_arms)\n",
    "oracle_case1 = np.array(oracle_lst)"
   ]
  },
  {
   "cell_type": "code",
   "execution_count": 12,
   "metadata": {
    "id": "jYnR5QXctM2z"
   },
   "outputs": [],
   "source": [
    "def make_regret(payoff, oracle):\n",
    "    return np.cumsum(oracle - payoff)\n",
    "\n",
    "def plot_regrets(results, oracle):\n",
    "    [plt.plot(make_regret(payoff=x['r_payoff'], oracle=oracle), label=\"alpha: \"+str(alpha)) for (alpha, x) in results.items()]"
   ]
  },
  {
   "cell_type": "code",
   "execution_count": 13,
   "metadata": {
    "id": "V7HRzWqioezq"
   },
   "outputs": [],
   "source": [
    "def plot_l2_norm_diff(results, true_theta, n_trial, n_arms, true_choice):\n",
    "    [plt.plot(make_l2_norm_diff(x['theta'], true_theta, n_trial, n_arms, true_choice), label=\"alpha: \"+str(alpha)) for (alpha, x) in results.items()]\n",
    "def make_l2_norm_diff(theta, true_theta, n_trial, n_arms, true_choice): #, true_choice\n",
    "    diff = []\n",
    "    for t in range(n_trial):\n",
    "        diff_t = 0\n",
    "        for arm in range(n_arms):\n",
    "            diff_vec = np.array([theta[t, arm] - (true_theta[arm])])\n",
    "            diff_t += np.linalg.norm(diff_vec, ord=2)\n",
    "        diff.append(diff_t)\n",
    "    return np.array(diff)"
   ]
  },
  {
   "cell_type": "code",
   "execution_count": 14,
   "metadata": {
    "id": "WC0ilups-Sx0"
   },
   "outputs": [],
   "source": [
    "def linUCB(N_TRIAL, N_ARMS, N_FEATURE,lda, alpha, X, Y, m, oracle, true_choice):\n",
    "    print(\"linUCB with alpha:\", alpha)\n",
    "    # n_trial, n_arms, n_feature = X.shape\n",
    "    n_trial = N_TRIAL\n",
    "    n_arms = N_ARMS\n",
    "    n_feature = N_FEATURE\n",
    "    # 1.Initialization\n",
    "    c_payoff = np.empty(n_trial)\n",
    "    c_payoff[0] = 0\n",
    "    r_payoff = np.empty(n_trial)\n",
    "    cum_regret = np.empty(n_trial)\n",
    "    r_payoff[0] = 0\n",
    "    arm_choice = np.empty(shape=(n_trial, m), dtype=int)\n",
    "    theta = np.empty(shape=(n_trial, n_arms, n_feature)) \n",
    "    p = np.empty(shape=(n_trial, n_arms))\n",
    "    acc = np.empty(shape=(n_trial, n_arms))\n",
    "\n",
    "\n",
    "    pred_reward = np.empty(shape=(n_trial, n_arms)) \n",
    "    ucb = np.empty(shape=(n_trial, n_arms))\n",
    "    selected_pred = np.empty(n_trial)\n",
    "    opt_pred = np.empty(n_trial)  \n",
    "    selected_err = np.empty(n_trial)\n",
    "    opt_err = np.empty(n_trial)\n",
    "    opt_payoff = np.empty(n_trial)\n",
    "    \n",
    "    mse_sel = np.empty(n_trial)\n",
    "    mse_opt = np.empty(n_trial)\n",
    "    \n",
    "    A = np.array([lda * np.diag(np.ones(shape=n_feature)) for _ in np.arange(n_arms)])\n",
    "    b = np.array([np.zeros(shape=n_feature) for _ in np.arange(n_arms)])\n",
    "\n",
    "    # 2. Algorithm\n",
    "    for t in np.arange(n_trial): \n",
    "        for a in np.arange(n_arms):\n",
    "            inv_A       = np.linalg.inv(A[a])\n",
    "            theta[t, a] = inv_A.dot(b[a])\n",
    "            pred_reward[t, a] = theta[t, a].dot(X[a][t])\n",
    "            ucb[t, a] = alpha * np.sqrt(X[a][t].dot(inv_A).dot(X[a][t])) #X[t, a]\n",
    "            p[t, a] = pred_reward[t, a] + ucb[t, a]\n",
    "            # p[t, a]     = theta[t, a].dot(X[t, a]) + alpha * np.sqrt(X[t, a].dot(inv_A).dot(X[t, a]))\n",
    "            acc[t, a]   = p[t, a] - Y[t, a]\n",
    "        # Choose m best arms\n",
    "        idx = np.argpartition(p[t], -m)[-m:]\n",
    "        chosen_arms = idx[np.argsort(-(p[t])[idx])]\n",
    "\n",
    "        selected_pred[t] = sum([pred_reward[t, a] for a in chosen_arms])\n",
    "        opt_pred[t] = sum([pred_reward[t, a] for a in true_choice[t]])\n",
    "\n",
    "        for i in np.arange(m):\n",
    "          arm_choice[t][i] = chosen_arms[i]\n",
    "        \n",
    "        # Update A and b\n",
    "        for chosen_arm in arm_choice[t]:\n",
    "          A[chosen_arm] += np.outer(X[chosen_arm][t], X[chosen_arm][t].T)\n",
    "          b[chosen_arm] += Y[t, chosen_arm] * X[chosen_arm][t] #X[chosen_arm][t]\n",
    "        \n",
    "        # Cumulative rewards\n",
    "        if t == 0:\n",
    "            c_payoff[t] = np.sum([Y[t, choice] for choice in arm_choice[t]])\n",
    "        else:\n",
    "            c_payoff[t]   = c_payoff[t-1] + np.sum([Y[t, choice] for choice in arm_choice[t]])\n",
    "\n",
    "        r_payoff[t] = np.sum([Y[t, choice] for choice in arm_choice[t]])\n",
    "        cum_regret[t] = np.sum(oracle[0:t+1] - r_payoff[0:t+1])\n",
    "\n",
    "        opt_payoff[t] = np.sum([Y[t, choice] for choice in true_choice[t]])\n",
    "        selected_err[t] = selected_pred[t] - r_payoff[t]\n",
    "        opt_err[t] = opt_pred[t] - opt_payoff[t]\n",
    "\n",
    "        mse_sel[t] = sum(np.square(pred_reward[t, a] - Y[t, a]) for a in chosen_arms)/m\n",
    "        mse_opt[t] = sum(np.square(pred_reward[t, a] - Y[t, a]) for a in true_choice[t])/m\n",
    "\n",
    "        if (t+1) % 15000 == 0:\n",
    "            print('TRIAL:',t,'DONE', '| cum_regret:', cum_regret[t])\n",
    "\n",
    "    return dict(mse_sel=mse_sel, mse_opt=mse_opt, theta=theta, p=p, arm_choice = arm_choice, r_payoff=r_payoff, c_payoff=c_payoff, A=A, acc=acc, selected_err=selected_err, opt_err=opt_err)"
   ]
  },
  {
   "cell_type": "code",
   "execution_count": 15,
   "metadata": {
    "colab": {
     "base_uri": "https://localhost:8080/"
    },
    "id": "hjmDc_KQtnfd",
    "outputId": "40f1247d-e0ac-4b6c-b3fa-daf2dfffc6e2"
   },
   "outputs": [
    {
     "name": "stdout",
     "output_type": "stream",
     "text": [
      "M: 29\n",
      "linUCB with alpha: 1.25\n",
      "TRIAL: 14999 DONE | cum_regret: 4757.112061117162\n",
      "TRIAL: 29999 DONE | cum_regret: 4757.112061117163\n",
      "linUCB with alpha: 1.5\n",
      "TRIAL: 14999 DONE | cum_regret: 1711.593326554137\n",
      "TRIAL: 29999 DONE | cum_regret: 1717.9915785178582\n",
      "linUCB with alpha: 1.75\n",
      "TRIAL: 14999 DONE | cum_regret: 2015.214121789858\n",
      "TRIAL: 29999 DONE | cum_regret: 2046.3640564480374\n",
      "linUCB with alpha: 2\n",
      "TRIAL: 14999 DONE | cum_regret: 2437.198907798356\n",
      "TRIAL: 29999 DONE | cum_regret: 2487.87251696305\n"
     ]
    }
   ],
   "source": [
    "print('M:', M)\n",
    "alpha_to_test = [1.25,1.5,1.75,2]\n",
    "results_dict = {alpha: linUCB(N_TRIAL=N_TRIAL, N_ARMS=N_ARMS, N_FEATURE=N_FEATURE, lda = 0.3, alpha = alpha, X=X_1, Y=(-1 * Y_1 + 30 + noise).T , m=M, oracle=oracle_case1, true_choice=true_choice)\\\n",
    "                for alpha in alpha_to_test} #(-1 * Y_1 + 30).T"
   ]
  },
  {
   "cell_type": "code",
   "execution_count": 17,
   "metadata": {
    "colab": {
     "base_uri": "https://localhost:8080/",
     "height": 472
    },
    "id": "GIRaMXDgQoqF",
    "outputId": "3b2f306a-c0f3-49fe-e398-eb379b19fa94"
   },
   "outputs": [
    {
     "data": {
      "image/png": "[encoded data removed]",
      "text/plain": [
       "<Figure size 900x540 with 1 Axes>"
      ]
     },
     "metadata": {
      "needs_background": "light"
     },
     "output_type": "display_data"
    }
   ],
   "source": [
    "# Plot regrets for various levels of alpha\n",
    "plt.figure(figsize=(12.5, 7.5))\n",
    "plot_regrets(results_dict, oracle_case1)\n",
    "plt.legend()\n",
    "plt.title(\"Regrets for various levels of alpha\")\n",
    "plt.show()"
   ]
  },
  {
   "cell_type": "code",
   "execution_count": null,
   "metadata": {},
   "outputs": [],
   "source": []
  }
 ],
 "metadata": {
  "colab": {
   "provenance": []
  },
  "kernelspec": {
   "display_name": "Python 3 (ipykernel)",
   "language": "python",
   "name": "python3"
  },
  "language_info": {
   "codemirror_mode": {
    "name": "ipython",
    "version": 3
   },
   "file_extension": ".py",
   "mimetype": "text/x-python",
   "name": "python",
   "nbconvert_exporter": "python",
   "pygments_lexer": "ipython3",
   "version": "3.7.4"
  }
 },
 "nbformat": 4,
 "nbformat_minor": 4
}
